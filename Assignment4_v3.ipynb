{
 "cells": [
  {
   "cell_type": "markdown",
   "id": "32135f87",
   "metadata": {
    "id": "32135f87"
   },
   "source": [
    "# Comparison of the performances of classification models\n",
    "\n",
    "Build kNN and logistic regression classifiers using sklearn library to predict \"satisfaction\" (**label** variable) by using given data. \n",
    "- First, shuffle and split your data into train, validation and test sets randomly, with a ratio of 70:10:20 **(10 points)**. \n",
    "- Build your models (with proper comments and explanations) using training set, and do parameter selection over the validation set  **(45 points)**. \n",
    "- Compare these 2 classification models according to their accuracies (you can print accuracy values in a single table as a comprehensive view) over the test set. Comment on their classification performance **(10 points)**.\n",
    "- Plot confusion matrices for your models over the test set, and comment on the outcomes **(15 points)**. \n",
    "- Finally, plot Precision-Recall (PR) curves for each classification model over the test set and evaluate the prediction performance of each classifier **(20 points)**. \n",
    "\n",
    "Notes:\n",
    "\n",
    "* Choose the optimal k value using Minkowski distance (with trying two different p-values) for kNN model using the validation set. \n",
    "\n",
    "\n",
    "* For any parameter selection, use the validation set.\n",
    "\n",
    "\n",
    "* Don't forget to add comments into your code lines to explain how your program works, your intentions behind it. Also, do not forget to comment on the outcomes and comparisons. "
   ]
  },
  {
   "cell_type": "code",
   "execution_count": 78,
   "id": "96b69852",
   "metadata": {},
   "outputs": [],
   "source": [
    "import pandas as pd\n",
    "import numpy as np\n",
    "from  sklearn.model_selection import train_test_split \n",
    "%matplotlib inline"
   ]
  },
  {
   "cell_type": "code",
   "execution_count": 79,
   "id": "b954af9c",
   "metadata": {},
   "outputs": [
    {
     "name": "stdout",
     "output_type": "stream",
     "text": [
      "Number of Rows :  1735 \n",
      "Number of Columns :  23\n"
     ]
    },
    {
     "data": {
      "text/html": [
       "<div>\n",
       "<style scoped>\n",
       "    .dataframe tbody tr th:only-of-type {\n",
       "        vertical-align: middle;\n",
       "    }\n",
       "\n",
       "    .dataframe tbody tr th {\n",
       "        vertical-align: top;\n",
       "    }\n",
       "\n",
       "    .dataframe thead th {\n",
       "        text-align: right;\n",
       "    }\n",
       "</style>\n",
       "<table border=\"1\" class=\"dataframe\">\n",
       "  <thead>\n",
       "    <tr style=\"text-align: right;\">\n",
       "      <th></th>\n",
       "      <th>satisfaction</th>\n",
       "      <th>Gender</th>\n",
       "      <th>Customer Type</th>\n",
       "      <th>Age</th>\n",
       "      <th>Type of Travel</th>\n",
       "      <th>Class</th>\n",
       "      <th>Flight Distance</th>\n",
       "      <th>Seat comfort</th>\n",
       "      <th>Departure/Arrival time convenient</th>\n",
       "      <th>Food and drink</th>\n",
       "      <th>...</th>\n",
       "      <th>Online support</th>\n",
       "      <th>Ease of Online booking</th>\n",
       "      <th>On-board service</th>\n",
       "      <th>Leg room service</th>\n",
       "      <th>Baggage handling</th>\n",
       "      <th>Checkin service</th>\n",
       "      <th>Cleanliness</th>\n",
       "      <th>Online boarding</th>\n",
       "      <th>Departure Delay in Minutes</th>\n",
       "      <th>Arrival Delay in Minutes</th>\n",
       "    </tr>\n",
       "  </thead>\n",
       "  <tbody>\n",
       "    <tr>\n",
       "      <th>0</th>\n",
       "      <td>satisfied</td>\n",
       "      <td>Female</td>\n",
       "      <td>Loyal Customer</td>\n",
       "      <td>65</td>\n",
       "      <td>Personal Travel</td>\n",
       "      <td>Eco</td>\n",
       "      <td>265</td>\n",
       "      <td>0</td>\n",
       "      <td>0</td>\n",
       "      <td>0</td>\n",
       "      <td>...</td>\n",
       "      <td>2</td>\n",
       "      <td>3</td>\n",
       "      <td>3</td>\n",
       "      <td>0</td>\n",
       "      <td>3</td>\n",
       "      <td>5</td>\n",
       "      <td>3</td>\n",
       "      <td>2</td>\n",
       "      <td>0</td>\n",
       "      <td>0.0</td>\n",
       "    </tr>\n",
       "    <tr>\n",
       "      <th>1</th>\n",
       "      <td>satisfied</td>\n",
       "      <td>Male</td>\n",
       "      <td>Loyal Customer</td>\n",
       "      <td>47</td>\n",
       "      <td>Personal Travel</td>\n",
       "      <td>Business</td>\n",
       "      <td>2464</td>\n",
       "      <td>0</td>\n",
       "      <td>0</td>\n",
       "      <td>0</td>\n",
       "      <td>...</td>\n",
       "      <td>2</td>\n",
       "      <td>3</td>\n",
       "      <td>4</td>\n",
       "      <td>4</td>\n",
       "      <td>4</td>\n",
       "      <td>2</td>\n",
       "      <td>3</td>\n",
       "      <td>2</td>\n",
       "      <td>310</td>\n",
       "      <td>305.0</td>\n",
       "    </tr>\n",
       "    <tr>\n",
       "      <th>2</th>\n",
       "      <td>satisfied</td>\n",
       "      <td>Female</td>\n",
       "      <td>Loyal Customer</td>\n",
       "      <td>15</td>\n",
       "      <td>Personal Travel</td>\n",
       "      <td>Eco</td>\n",
       "      <td>2138</td>\n",
       "      <td>0</td>\n",
       "      <td>0</td>\n",
       "      <td>0</td>\n",
       "      <td>...</td>\n",
       "      <td>2</td>\n",
       "      <td>2</td>\n",
       "      <td>3</td>\n",
       "      <td>3</td>\n",
       "      <td>4</td>\n",
       "      <td>4</td>\n",
       "      <td>4</td>\n",
       "      <td>2</td>\n",
       "      <td>0</td>\n",
       "      <td>0.0</td>\n",
       "    </tr>\n",
       "    <tr>\n",
       "      <th>3</th>\n",
       "      <td>satisfied</td>\n",
       "      <td>Female</td>\n",
       "      <td>Loyal Customer</td>\n",
       "      <td>60</td>\n",
       "      <td>Personal Travel</td>\n",
       "      <td>Eco</td>\n",
       "      <td>623</td>\n",
       "      <td>0</td>\n",
       "      <td>0</td>\n",
       "      <td>0</td>\n",
       "      <td>...</td>\n",
       "      <td>3</td>\n",
       "      <td>1</td>\n",
       "      <td>1</td>\n",
       "      <td>0</td>\n",
       "      <td>1</td>\n",
       "      <td>4</td>\n",
       "      <td>1</td>\n",
       "      <td>3</td>\n",
       "      <td>0</td>\n",
       "      <td>0.0</td>\n",
       "    </tr>\n",
       "    <tr>\n",
       "      <th>4</th>\n",
       "      <td>satisfied</td>\n",
       "      <td>Female</td>\n",
       "      <td>Loyal Customer</td>\n",
       "      <td>70</td>\n",
       "      <td>Personal Travel</td>\n",
       "      <td>Eco</td>\n",
       "      <td>354</td>\n",
       "      <td>0</td>\n",
       "      <td>0</td>\n",
       "      <td>0</td>\n",
       "      <td>...</td>\n",
       "      <td>4</td>\n",
       "      <td>2</td>\n",
       "      <td>2</td>\n",
       "      <td>0</td>\n",
       "      <td>2</td>\n",
       "      <td>4</td>\n",
       "      <td>2</td>\n",
       "      <td>5</td>\n",
       "      <td>0</td>\n",
       "      <td>0.0</td>\n",
       "    </tr>\n",
       "  </tbody>\n",
       "</table>\n",
       "<p>5 rows × 23 columns</p>\n",
       "</div>"
      ],
      "text/plain": [
       "  satisfaction  Gender   Customer Type  Age   Type of Travel     Class  \\\n",
       "0    satisfied  Female  Loyal Customer   65  Personal Travel       Eco   \n",
       "1    satisfied    Male  Loyal Customer   47  Personal Travel  Business   \n",
       "2    satisfied  Female  Loyal Customer   15  Personal Travel       Eco   \n",
       "3    satisfied  Female  Loyal Customer   60  Personal Travel       Eco   \n",
       "4    satisfied  Female  Loyal Customer   70  Personal Travel       Eco   \n",
       "\n",
       "   Flight Distance  Seat comfort  Departure/Arrival time convenient  \\\n",
       "0              265             0                                  0   \n",
       "1             2464             0                                  0   \n",
       "2             2138             0                                  0   \n",
       "3              623             0                                  0   \n",
       "4              354             0                                  0   \n",
       "\n",
       "   Food and drink  ...  Online support  Ease of Online booking  \\\n",
       "0               0  ...               2                       3   \n",
       "1               0  ...               2                       3   \n",
       "2               0  ...               2                       2   \n",
       "3               0  ...               3                       1   \n",
       "4               0  ...               4                       2   \n",
       "\n",
       "   On-board service  Leg room service  Baggage handling  Checkin service  \\\n",
       "0                 3                 0                 3                5   \n",
       "1                 4                 4                 4                2   \n",
       "2                 3                 3                 4                4   \n",
       "3                 1                 0                 1                4   \n",
       "4                 2                 0                 2                4   \n",
       "\n",
       "   Cleanliness  Online boarding  Departure Delay in Minutes  \\\n",
       "0            3                2                           0   \n",
       "1            3                2                         310   \n",
       "2            4                2                           0   \n",
       "3            1                3                           0   \n",
       "4            2                5                           0   \n",
       "\n",
       "   Arrival Delay in Minutes  \n",
       "0                       0.0  \n",
       "1                     305.0  \n",
       "2                       0.0  \n",
       "3                       0.0  \n",
       "4                       0.0  \n",
       "\n",
       "[5 rows x 23 columns]"
      ]
     },
     "metadata": {},
     "output_type": "display_data"
    }
   ],
   "source": [
    "data_df = pd.read_csv(\"data.csv\")  \n",
    "print(\"Number of Rows : \", len(data_df),\"\\nNumber of Columns : \",len(data_df.columns))\n",
    "display(data_df.head(5))\n",
    "##first 5 records"
   ]
  },
  {
   "cell_type": "code",
   "execution_count": 80,
   "id": "6cba397d",
   "metadata": {},
   "outputs": [],
   "source": [
    "from sklearn.neighbors import KNeighborsClassifier as KNN\n",
    "from sklearn.linear_model import LogisticRegression\n",
    "from sklearn.preprocessing import OrdinalEncoder\n",
    "from sklearn.metrics import mean_squared_error as mse\n",
    "from sklearn.model_selection import cross_val_score\n",
    "from sklearn.preprocessing import MinMaxScaler\n",
    "from sklearn.preprocessing import OneHotEncoder\n",
    "from sklearn.compose import make_column_transformer"
   ]
  },
  {
   "cell_type": "markdown",
   "id": "37d8a3c9",
   "metadata": {},
   "source": [
    "## Data cleaning and Preprocessing (Encoding ,Handling missing data etc.)"
   ]
  },
  {
   "cell_type": "code",
   "execution_count": 81,
   "id": "2b493230",
   "metadata": {},
   "outputs": [
    {
     "data": {
      "text/html": [
       "<div>\n",
       "<style scoped>\n",
       "    .dataframe tbody tr th:only-of-type {\n",
       "        vertical-align: middle;\n",
       "    }\n",
       "\n",
       "    .dataframe tbody tr th {\n",
       "        vertical-align: top;\n",
       "    }\n",
       "\n",
       "    .dataframe thead th {\n",
       "        text-align: right;\n",
       "    }\n",
       "</style>\n",
       "<table border=\"1\" class=\"dataframe\">\n",
       "  <thead>\n",
       "    <tr style=\"text-align: right;\">\n",
       "      <th></th>\n",
       "      <th>satisfaction</th>\n",
       "      <th>Gender</th>\n",
       "      <th>Customer Type</th>\n",
       "      <th>Age</th>\n",
       "      <th>Type of Travel</th>\n",
       "      <th>Class</th>\n",
       "      <th>Flight Distance</th>\n",
       "      <th>Seat comfort</th>\n",
       "      <th>Departure/Arrival time convenient</th>\n",
       "      <th>Food and drink</th>\n",
       "      <th>...</th>\n",
       "      <th>Online support</th>\n",
       "      <th>Ease of Online booking</th>\n",
       "      <th>On-board service</th>\n",
       "      <th>Leg room service</th>\n",
       "      <th>Baggage handling</th>\n",
       "      <th>Checkin service</th>\n",
       "      <th>Cleanliness</th>\n",
       "      <th>Online boarding</th>\n",
       "      <th>Departure Delay in Minutes</th>\n",
       "      <th>Arrival Delay in Minutes</th>\n",
       "    </tr>\n",
       "  </thead>\n",
       "  <tbody>\n",
       "    <tr>\n",
       "      <th>0</th>\n",
       "      <td>1.0</td>\n",
       "      <td>0.0</td>\n",
       "      <td>0.0</td>\n",
       "      <td>65</td>\n",
       "      <td>1.0</td>\n",
       "      <td>1.0</td>\n",
       "      <td>265</td>\n",
       "      <td>0</td>\n",
       "      <td>0</td>\n",
       "      <td>0</td>\n",
       "      <td>...</td>\n",
       "      <td>2</td>\n",
       "      <td>3</td>\n",
       "      <td>3</td>\n",
       "      <td>0</td>\n",
       "      <td>3</td>\n",
       "      <td>5</td>\n",
       "      <td>3</td>\n",
       "      <td>2</td>\n",
       "      <td>0</td>\n",
       "      <td>0.0</td>\n",
       "    </tr>\n",
       "    <tr>\n",
       "      <th>1</th>\n",
       "      <td>1.0</td>\n",
       "      <td>1.0</td>\n",
       "      <td>0.0</td>\n",
       "      <td>47</td>\n",
       "      <td>1.0</td>\n",
       "      <td>0.0</td>\n",
       "      <td>2464</td>\n",
       "      <td>0</td>\n",
       "      <td>0</td>\n",
       "      <td>0</td>\n",
       "      <td>...</td>\n",
       "      <td>2</td>\n",
       "      <td>3</td>\n",
       "      <td>4</td>\n",
       "      <td>4</td>\n",
       "      <td>4</td>\n",
       "      <td>2</td>\n",
       "      <td>3</td>\n",
       "      <td>2</td>\n",
       "      <td>310</td>\n",
       "      <td>305.0</td>\n",
       "    </tr>\n",
       "    <tr>\n",
       "      <th>2</th>\n",
       "      <td>1.0</td>\n",
       "      <td>0.0</td>\n",
       "      <td>0.0</td>\n",
       "      <td>15</td>\n",
       "      <td>1.0</td>\n",
       "      <td>1.0</td>\n",
       "      <td>2138</td>\n",
       "      <td>0</td>\n",
       "      <td>0</td>\n",
       "      <td>0</td>\n",
       "      <td>...</td>\n",
       "      <td>2</td>\n",
       "      <td>2</td>\n",
       "      <td>3</td>\n",
       "      <td>3</td>\n",
       "      <td>4</td>\n",
       "      <td>4</td>\n",
       "      <td>4</td>\n",
       "      <td>2</td>\n",
       "      <td>0</td>\n",
       "      <td>0.0</td>\n",
       "    </tr>\n",
       "    <tr>\n",
       "      <th>3</th>\n",
       "      <td>1.0</td>\n",
       "      <td>0.0</td>\n",
       "      <td>0.0</td>\n",
       "      <td>60</td>\n",
       "      <td>1.0</td>\n",
       "      <td>1.0</td>\n",
       "      <td>623</td>\n",
       "      <td>0</td>\n",
       "      <td>0</td>\n",
       "      <td>0</td>\n",
       "      <td>...</td>\n",
       "      <td>3</td>\n",
       "      <td>1</td>\n",
       "      <td>1</td>\n",
       "      <td>0</td>\n",
       "      <td>1</td>\n",
       "      <td>4</td>\n",
       "      <td>1</td>\n",
       "      <td>3</td>\n",
       "      <td>0</td>\n",
       "      <td>0.0</td>\n",
       "    </tr>\n",
       "    <tr>\n",
       "      <th>4</th>\n",
       "      <td>1.0</td>\n",
       "      <td>0.0</td>\n",
       "      <td>0.0</td>\n",
       "      <td>70</td>\n",
       "      <td>1.0</td>\n",
       "      <td>1.0</td>\n",
       "      <td>354</td>\n",
       "      <td>0</td>\n",
       "      <td>0</td>\n",
       "      <td>0</td>\n",
       "      <td>...</td>\n",
       "      <td>4</td>\n",
       "      <td>2</td>\n",
       "      <td>2</td>\n",
       "      <td>0</td>\n",
       "      <td>2</td>\n",
       "      <td>4</td>\n",
       "      <td>2</td>\n",
       "      <td>5</td>\n",
       "      <td>0</td>\n",
       "      <td>0.0</td>\n",
       "    </tr>\n",
       "  </tbody>\n",
       "</table>\n",
       "<p>5 rows × 23 columns</p>\n",
       "</div>"
      ],
      "text/plain": [
       "   satisfaction  Gender  Customer Type  Age  Type of Travel  Class  \\\n",
       "0           1.0     0.0            0.0   65             1.0    1.0   \n",
       "1           1.0     1.0            0.0   47             1.0    0.0   \n",
       "2           1.0     0.0            0.0   15             1.0    1.0   \n",
       "3           1.0     0.0            0.0   60             1.0    1.0   \n",
       "4           1.0     0.0            0.0   70             1.0    1.0   \n",
       "\n",
       "   Flight Distance  Seat comfort  Departure/Arrival time convenient  \\\n",
       "0              265             0                                  0   \n",
       "1             2464             0                                  0   \n",
       "2             2138             0                                  0   \n",
       "3              623             0                                  0   \n",
       "4              354             0                                  0   \n",
       "\n",
       "   Food and drink  ...  Online support  Ease of Online booking  \\\n",
       "0               0  ...               2                       3   \n",
       "1               0  ...               2                       3   \n",
       "2               0  ...               2                       2   \n",
       "3               0  ...               3                       1   \n",
       "4               0  ...               4                       2   \n",
       "\n",
       "   On-board service  Leg room service  Baggage handling  Checkin service  \\\n",
       "0                 3                 0                 3                5   \n",
       "1                 4                 4                 4                2   \n",
       "2                 3                 3                 4                4   \n",
       "3                 1                 0                 1                4   \n",
       "4                 2                 0                 2                4   \n",
       "\n",
       "   Cleanliness  Online boarding  Departure Delay in Minutes  \\\n",
       "0            3                2                           0   \n",
       "1            3                2                         310   \n",
       "2            4                2                           0   \n",
       "3            1                3                           0   \n",
       "4            2                5                           0   \n",
       "\n",
       "   Arrival Delay in Minutes  \n",
       "0                       0.0  \n",
       "1                     305.0  \n",
       "2                       0.0  \n",
       "3                       0.0  \n",
       "4                       0.0  \n",
       "\n",
       "[5 rows x 23 columns]"
      ]
     },
     "metadata": {},
     "output_type": "display_data"
    }
   ],
   "source": [
    "##going to change categorical values to numaric values by encoding \n",
    "ord_enc = OrdinalEncoder()\n",
    "scaler = MinMaxScaler()\n",
    "##encoding categorical features\n",
    "\n",
    "data_df[[\"satisfaction\",\"Customer Type\",\"Gender\",\"Type of Travel\",\"Class\"]] = ord_enc.fit_transform(data_df[[\"satisfaction\",\"Customer Type\",\"Gender\",\"Type of Travel\",\"Class\"]])\n",
    "\n",
    "\n",
    "new_data_df = data_df.interpolate()  ##replacing null values with interpolate method\n",
    "\n",
    "\n",
    "## new_data_df = pd.DataFrame(scaler.fit_transform(new_data_df),columns=new_data_df.columns)\n",
    "\n",
    "display(new_data_df.head())  ##encoded data frame\n",
    "##We have transformed "
   ]
  },
  {
   "cell_type": "markdown",
   "id": "7d6ce390",
   "metadata": {},
   "source": [
    "####  I USED MINMAX SCALER AT THE FIRST BUT IT GAVE 0 ERROR IN LOG REGRESSION SO I WAS KINDA SUSPECTED THERE COULD BE SOME KIND OF OVERFITTING SO I DECIDED TO NOT USE"
   ]
  },
  {
   "cell_type": "code",
   "execution_count": 82,
   "id": "89b8fc95",
   "metadata": {},
   "outputs": [],
   "source": [
    "y = new_data_df[\"satisfaction\"]  ##selecting features and predictionc columns\n",
    "x = new_data_df.drop(columns=\"satisfaction\")"
   ]
  },
  {
   "cell_type": "code",
   "execution_count": 83,
   "id": "59610fb0",
   "metadata": {},
   "outputs": [],
   "source": [
    "X_train, X_test, y_train, y_test  = train_test_split(x, y, test_size=0.2, random_state=21,shuffle=True)\n",
    "\n",
    "X_train, X_val, y_train, y_val  = train_test_split(X_train, y_train, test_size=0.125, random_state=21,shuffle=True) # 0.25 x 0.8 = 0.2"
   ]
  },
  {
   "cell_type": "markdown",
   "id": "49c06138",
   "metadata": {},
   "source": [
    "# Tuning parameters for KNN model"
   ]
  },
  {
   "cell_type": "code",
   "execution_count": 84,
   "id": "7392737d",
   "metadata": {},
   "outputs": [],
   "source": [
    "##Going to Tune KNN model by using validation set and training sets\n",
    "\n",
    "optimal_k = 0\n",
    "distance = \"\"  ##just giving default \n",
    "manhattan_list = {}\n",
    "euclid_list = {}\n",
    "def Elbow(i,k):\n",
    "    global optimal_k,distance\n",
    "    \n",
    "    while(i<=k):\n",
    "    \n",
    "        manhattan = KNN(n_neighbors=i,p=1)\n",
    "        manhattan.fit(X_train,y_train)\n",
    "        prediction = manhattan.predict(X_val)\n",
    "        error = mse(y_val,prediction,squared=True)\n",
    "        manhattan_list[i]=error\n",
    "    \n",
    "        euclid = KNN(n_neighbors = i,p=2)\n",
    "        euclid.fit(X_train,y_train)\n",
    "        prediction = euclid.predict(X_val)\n",
    "        error = mse(y_val,prediction,squared=True)\n",
    "        euclid_list[i]=error\n",
    "        i +=1;\n",
    "        \n",
    "        \n",
    "    min_error = 10000000\n",
    "    for key in euclid_list:\n",
    "        if euclid_list[key]<min_error:\n",
    "            min_error = euclid_list[key]\n",
    "            distance = \"euclidean\"\n",
    "            optimal_k = key\n",
    "            \n",
    "    for key in manhattan_list:\n",
    "        if manhattan_list[key]<min_error:\n",
    "            min_error = manhattan_list[key]\n",
    "            optimal_k = key\n",
    "            distance = \"manhattan\"        \n",
    "   #we found optimal k for manhattan distance knn\n",
    "                ##now gonna find for euclid\n",
    "\n",
    "\n",
    "   \n",
    "\n"
   ]
  },
  {
   "cell_type": "code",
   "execution_count": 85,
   "id": "eaf2b9dc",
   "metadata": {},
   "outputs": [
    {
     "name": "stdout",
     "output_type": "stream",
     "text": [
      "Optimal k value for KNN model = 3 \n",
      "Optimal Distance Tactic for KNN model = manhattan\n",
      "Score of Knn model :  0.8184438040345822\n"
     ]
    }
   ],
   "source": [
    "Elbow(1,100)\n",
    "print(\"Optimal k value for KNN model = {0} \\nOptimal Distance Tactic for KNN model = {1}\".format(optimal_k,distance))\n",
    "\n",
    "optimalKnn = KNN(n_neighbors=optimal_k,metric = distance)  ##creating the efficient model of KNN\n",
    "optimalKnn.fit(X_train,y_train)\n",
    "knn_predicts = optimalKnn.predict(X_test)\n",
    "print(\"Score of Knn model : \",optimalKnn.score(X_test,y_test))\n",
    "\n",
    "##Now we found the best n_neighbors and metric model for our KNN model. TUNING FINISHED"
   ]
  },
  {
   "cell_type": "markdown",
   "id": "f269a07d",
   "metadata": {},
   "source": [
    "# Tuning parameters for our logistic regression model"
   ]
  },
  {
   "cell_type": "code",
   "execution_count": 86,
   "id": "74514ecb",
   "metadata": {},
   "outputs": [
    {
     "name": "stdout",
     "output_type": "stream",
     "text": [
      "Optimal solver method for logistic model :  newton-cg \n",
      "Best C value :  100\n"
     ]
    }
   ],
   "source": [
    "##now we need to tune logistic regression parameters using validation and train set\n",
    "\n",
    "def tuningLog():\n",
    "    solvers = ['newton-cg', \"liblinear\",'lbfgs','sag','saga']\n",
    "    C_vals = [100,10,1,0.1,0.01]\n",
    "    min_error = 100000\n",
    "    optimal_vals=[\"non\",0]\n",
    "    for solv in solvers:\n",
    "        for c in C_vals:\n",
    "            \n",
    "            regress = LogisticRegression(solver=solv,C=c,random_state = 42,max_iter =9000)\n",
    "            regress.fit(X_train,y_train)\n",
    "            pred = regress.predict(X_val)\n",
    "            error = mse(y_val,pred,squared=True)\n",
    "            if(error<min_error):\n",
    "                optimal_solver = solv\n",
    "                min_error = error\n",
    "                optimal_vals[0] = solv\n",
    "                optimal_vals[1]=c\n",
    "            \n",
    "            \n",
    "    return optimal_vals\n",
    "            \n",
    "optimal_vals = tuningLog()       \n",
    "print(\"Optimal solver method for logistic model : \",optimal_vals[0],\"\\nBest C value : \",optimal_vals[1])\n",
    "\n",
    "##we found the best solver method for our model"
   ]
  },
  {
   "cell_type": "code",
   "execution_count": 87,
   "id": "65404dca",
   "metadata": {},
   "outputs": [],
   "source": [
    "##Now we have our optimized parameters for logistic regression we are going to create optimal log reg model\n",
    "\n",
    "optimal_logreg = LogisticRegression(solver=optimal_vals[0],C=optimal_vals[1],max_iter = 9000)\n",
    "optimal_logreg.fit(X_train,y_train)\n",
    "\n",
    "log_predicts = optimal_logreg.predict(X_test)\n"
   ]
  },
  {
   "cell_type": "markdown",
   "id": "352a3884",
   "metadata": {},
   "source": [
    "## AS WE CAN SEE LOGISTIC REGRESSION HAS BETTER ACCURACY SCORE.I think the reason is logistic regression is better for class type predictions. So it is why it has better accuracy score"
   ]
  },
  {
   "cell_type": "code",
   "execution_count": 88,
   "id": "3b6ad28e",
   "metadata": {},
   "outputs": [],
   "source": [
    "from sklearn.metrics import confusion_matrix\n",
    "import seaborn as sns\n",
    "from matplotlib.ticker import PercentFormatter\n",
    "from matplotlib import pyplot"
   ]
  },
  {
   "cell_type": "markdown",
   "id": "ce5d262c",
   "metadata": {},
   "source": [
    "# CONFUSSION MATRIXES FOR KNN AND LOGISTIC REGRESSION MODELS"
   ]
  },
  {
   "cell_type": "code",
   "execution_count": 89,
   "id": "750ec11f",
   "metadata": {},
   "outputs": [
    {
     "data": {
      "text/plain": [
       "Text(0.5, 1.0, 'KNN Confussion Matrix')"
      ]
     },
     "execution_count": 89,
     "metadata": {},
     "output_type": "execute_result"
    },
    {
     "data": {
      "image/png": "[encoded data removed]",
      "text/plain": [
       "<Figure size 432x288 with 2 Axes>"
      ]
     },
     "metadata": {
      "needs_background": "light"
     },
     "output_type": "display_data"
    }
   ],
   "source": [
    "##confussion matrix and graph for KNN\n",
    "\n",
    "knn_cm = confusion_matrix(y_test,knn_predicts)\n",
    "ax = sns.heatmap(knn_cm/np.sum(knn_cm), annot=True,  fmt='.2%', cmap='Blues')\n",
    "ax.set_xlabel('\\nPredicted Values')\n",
    "ax.set_ylabel('Actual Values ');\n",
    "ax.set_title(\"KNN Confussion Matrix\")\n"
   ]
  },
  {
   "cell_type": "code",
   "execution_count": 90,
   "id": "b60b2380",
   "metadata": {},
   "outputs": [
    {
     "data": {
      "text/plain": [
       "Text(0.5, 1.0, 'Logistic Regression Confussion Matrix')"
      ]
     },
     "execution_count": 90,
     "metadata": {},
     "output_type": "execute_result"
    },
    {
     "data": {
      "image/png": "[encoded data removed]",
      "text/plain": [
       "<Figure size 432x288 with 2 Axes>"
      ]
     },
     "metadata": {
      "needs_background": "light"
     },
     "output_type": "display_data"
    }
   ],
   "source": [
    "##confussion matrix and graph for logistic regression\n",
    "\n",
    "log_cm = confusion_matrix(y_test,log_predicts)\n",
    "\n",
    "\n",
    "\n",
    "ax = sns.heatmap(log_cm/np.sum(log_cm) , annot=True,fmt=\".2%\", cmap='Blues')\n",
    "\n",
    "ax.set_xlabel('\\nPredicted Values')\n",
    "ax.set_ylabel('Actual Values ');\n",
    "ax.set_title(\"Logistic Regression Confussion Matrix\")              \n",
    "\n",
    "##WE CAN SEE THAT THERE IS NO SUCH VALUE THAT WE PREDICTED 1 AND TRUTH WAS 0. THIS MEANS OUR MODEL IS BETTER AT PREDICTING 1.\n",
    "##WHICH MEANS SATISFIED"
   ]
  },
  {
   "cell_type": "markdown",
   "id": "df82bd8d",
   "metadata": {},
   "source": [
    "# PRECISION RECALL CURVE"
   ]
  },
  {
   "cell_type": "code",
   "execution_count": 91,
   "id": "4842bb07",
   "metadata": {},
   "outputs": [],
   "source": [
    "from sklearn.metrics import precision_recall_curve\n",
    "from sklearn.metrics import f1_score\n",
    "from sklearn.metrics import auc"
   ]
  },
  {
   "cell_type": "code",
   "execution_count": 92,
   "id": "9ed83d27",
   "metadata": {},
   "outputs": [
    {
     "data": {
      "image/png": "[encoded data removed]",
      "text/plain": [
       "<Figure size 432x288 with 1 Axes>"
      ]
     },
     "metadata": {
      "needs_background": "light"
     },
     "output_type": "display_data"
    }
   ],
   "source": [
    "\n",
    "\n",
    "lr_probs = optimal_logreg.predict_proba(X_test)\n",
    "lr_probs = lr_probs[:, 1]# keep probabilities for the positive outcome only\n",
    "\n",
    "lr_precision, lr_recall,_ = precision_recall_curve(y_test, lr_probs)\n",
    "\n",
    "\n",
    "\n",
    "default= len(y_test[y_test==1]) / len(y_test)\n",
    "##now graphing the precision recall curve\n",
    "\n",
    "pyplot.plot([0, 1], [default,default], label='No Skill',color = \"red\")\n",
    "pyplot.plot(lr_recall, lr_precision, marker='.', label='Logistic',color=\"green\")\n",
    "\n",
    "pyplot.xlabel('Recall')\n",
    "pyplot.ylabel('Precision')\n",
    "pyplot.title(\"Logistic Regression PR curve\")\n",
    "pyplot.legend()\n",
    "pyplot.show()\n"
   ]
  },
  {
   "cell_type": "markdown",
   "id": "44c1be47",
   "metadata": {},
   "source": [
    "### Sınce our accuracy in logistic model is close to 1 so its precision recall curve very close to be at perfect point right top corner."
   ]
  },
  {
   "cell_type": "code",
   "execution_count": 93,
   "id": "e732f72c",
   "metadata": {},
   "outputs": [
    {
     "data": {
      "image/png": "[encoded data removed]",
      "text/plain": [
       "<Figure size 432x288 with 1 Axes>"
      ]
     },
     "metadata": {
      "needs_background": "light"
     },
     "output_type": "display_data"
    }
   ],
   "source": [
    "\n",
    "precision,recall,threshhold = precision_recall_curve(y_test,knn_predicts)\n",
    "pyplot.plot([0, 1], [default,default], label='No Skill',color = \"red\")\n",
    "pyplot.plot(recall,precision,label=\"Logistic\",color=\"green\")\n",
    "pyplot.xlabel('Recall')\n",
    "pyplot.ylabel('Precision')\n",
    "pyplot.title(\"KNN PR curve\")\n",
    "pyplot.legend()\n",
    "pyplot.show()"
   ]
  },
  {
   "cell_type": "markdown",
   "id": "81d5d513",
   "metadata": {},
   "source": [
    "### As we can see in this graph. Knn model is not so efficient as much as logistic regression"
   ]
  },
  {
   "cell_type": "markdown",
   "id": "b92bc332",
   "metadata": {},
   "source": [
    "## Now we are comparing models and evaluating performances"
   ]
  },
  {
   "cell_type": "code",
   "execution_count": 94,
   "id": "b7801338",
   "metadata": {},
   "outputs": [
    {
     "data": {
      "text/html": [
       "<div>\n",
       "<style scoped>\n",
       "    .dataframe tbody tr th:only-of-type {\n",
       "        vertical-align: middle;\n",
       "    }\n",
       "\n",
       "    .dataframe tbody tr th {\n",
       "        vertical-align: top;\n",
       "    }\n",
       "\n",
       "    .dataframe thead th {\n",
       "        text-align: right;\n",
       "    }\n",
       "</style>\n",
       "<table border=\"1\" class=\"dataframe\">\n",
       "  <thead>\n",
       "    <tr style=\"text-align: right;\">\n",
       "      <th></th>\n",
       "      <th>Accuracy Score</th>\n",
       "    </tr>\n",
       "  </thead>\n",
       "  <tbody>\n",
       "    <tr>\n",
       "      <th>Logistic Regression</th>\n",
       "      <td>0.991354</td>\n",
       "    </tr>\n",
       "    <tr>\n",
       "      <th>KNN</th>\n",
       "      <td>0.818444</td>\n",
       "    </tr>\n",
       "  </tbody>\n",
       "</table>\n",
       "</div>"
      ],
      "text/plain": [
       "                     Accuracy Score\n",
       "Logistic Regression        0.991354\n",
       "KNN                        0.818444"
      ]
     },
     "execution_count": 94,
     "metadata": {},
     "output_type": "execute_result"
    }
   ],
   "source": [
    "\n",
    "from sklearn.metrics import classification_report\n",
    "from sklearn.metrics import accuracy_score\n",
    "accuracy_knn =accuracy_score(y_test,knn_predicts)      ##WE ARE CREATING ACCURACY SCORE TABLE FOR BOTH MODEL TO COMPARE\n",
    "accuracy_log = accuracy_score(y_test,log_predicts)\n",
    "result = [accuracy_log,accuracy_knn]\n",
    "models_scores_table = pd.DataFrame(data=result,columns = [\"Accuracy Score\"],index = [\"Logistic Regression\",\"KNN\"])\n",
    "models_scores_table"
   ]
  },
  {
   "cell_type": "markdown",
   "id": "473d8d4e",
   "metadata": {},
   "source": [
    "### Since Logistic regression is better at predicting binary results. It gives better score. So we better use logistic regression to make our model efficient"
   ]
  }
 ],
 "metadata": {
  "colab": {
   "collapsed_sections": [],
   "name": "Assignment_4v2.ipynb",
   "provenance": []
  },
  "kernelspec": {
   "display_name": "Python 3",
   "language": "python",
   "name": "python3"
  },
  "language_info": {
   "codemirror_mode": {
    "name": "ipython",
    "version": 3
   },
   "file_extension": ".py",
   "mimetype": "text/x-python",
   "name": "python",
   "nbconvert_exporter": "python",
   "pygments_lexer": "ipython3",
   "version": "3.8.8"
  }
 },
 "nbformat": 4,
 "nbformat_minor": 5
}
