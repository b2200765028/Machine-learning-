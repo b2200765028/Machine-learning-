{
  "nbformat": 4,
  "nbformat_minor": 0,
  "metadata": {
    "colab": {
      "name": "mnist-pytorch.ipynb",
      "provenance": [],
      "collapsed_sections": [],
      "authorship_tag": "ABX9TyO7DOwb6JBOkSz3mLo46Lk4",
      "include_colab_link": true
    },
    "kernelspec": {
      "name": "python3",
      "display_name": "Python 3"
    },
    "language_info": {
      "name": "python"
    },
    "accelerator": "GPU",
    "gpuClass": "standard"
  },
  "cells": [
    {
      "cell_type": "markdown",
      "metadata": {
        "id": "view-in-github",
        "colab_type": "text"
      },
      "source": [
        "<a href=\"https://colab.research.google.com/github/b2200765028/mach-learning/blob/main/fashionmnist_pytorch.ipynb\" target=\"_parent\"><img src=\"https://colab.research.google.com/assets/colab-badge.svg\" alt=\"Open In Colab\"/></a>"
      ]
    },
    {
      "cell_type": "code",
      "execution_count": 542,
      "metadata": {
        "id": "N_CxtsjIRgfb"
      },
      "outputs": [],
      "source": [
        "import torch\n",
        "import numpy as np\n",
        "import torchvision\n",
        "from torch import nn\n",
        "from torch.utils.data import DataLoader\n",
        "import matplotlib.pyplot as plt\n",
        "import torch.nn.functional as F\n",
        "from PIL import Image\n",
        "\n"
      ]
    },
    {
      "cell_type": "code",
      "source": [
        "train_transform = torchvision.transforms.Compose([\n",
        "                               torchvision.transforms.ToTensor(),\n",
        "                               torchvision.transforms.Normalize((0.1307,), (0.3081,))])"
      ],
      "metadata": {
        "id": "9oGSCwalRjZR"
      },
      "execution_count": 543,
      "outputs": []
    },
    {
      "cell_type": "code",
      "source": [
        "train_data= torchvision.datasets.FashionMNIST(\"/files/\",train=True, download=True,\n",
        "                             transform=train_transform)"
      ],
      "metadata": {
        "id": "TLGyrH5WRjc4"
      },
      "execution_count": 544,
      "outputs": []
    },
    {
      "cell_type": "code",
      "source": [
        "test_data = torchvision.datasets.FashionMNIST(\"/files/\",train=False, download=True,\n",
        "                             transform=train_transform)"
      ],
      "metadata": {
        "id": "-g816OxdRjfQ"
      },
      "execution_count": 545,
      "outputs": []
    },
    {
      "cell_type": "code",
      "source": [
        "train_loader =DataLoader(batch_size=64,dataset=train_data,shuffle=True)\n",
        "test_loader = DataLoader(batch_size=64,dataset=test_data,shuffle=True)\n"
      ],
      "metadata": {
        "id": "8mIgDwcIRjiA"
      },
      "execution_count": 546,
      "outputs": []
    },
    {
      "cell_type": "code",
      "source": [
        "idx,(img,label) = next(enumerate(train_loader))\n",
        "\n",
        "plt.tight_layout()\n",
        "##plt.imshow(img[0],cmap=\"binary\")\n",
        "plt.imshow(torch.squeeze(img[0]),cmap=\"binary\")\n",
        "print(\"Label is \",label[0].numpy())\n",
        "    "
      ],
      "metadata": {
        "colab": {
          "base_uri": "https://localhost:8080/",
          "height": 283
        },
        "id": "91cuk69mRjke",
        "outputId": "035badfc-7ad8-4c5e-d00d-f379f16a29e6"
      },
      "execution_count": 547,
      "outputs": [
        {
          "output_type": "stream",
          "name": "stdout",
          "text": [
            "Label is  2\n"
          ]
        },
        {
          "output_type": "display_data",
          "data": {
            "text/plain": [
              "<Figure size 432x288 with 1 Axes>"
            ],
            "image/png": "[encoded data removed]"
          },
          "metadata": {
            "needs_background": "light"
          }
        }
      ]
    },
    {
      "cell_type": "code",
      "source": [
        "class Model_1(nn.Module):\n",
        "    def __init__(self):\n",
        "        super(Model,self).__init__()\n",
        "        \n",
        "        self.linear = nn.Sequential(\n",
        "                \n",
        "                nn.Flatten(),\n",
        "                nn.Linear(28*28,256),\n",
        "                nn.ReLU(),\n",
        "                nn.Dropout(p=0.2),\n",
        "                nn.Linear(256,128),\n",
        "                nn.ReLU(),\n",
        "                nn.Dropout(p=0.2),\n",
        "                nn.Linear(128,64),\n",
        "                nn.ReLU(),\n",
        "                nn.Dropout(p=0.2),\n",
        "                nn.Linear(64,10)\n",
        "            \n",
        "              \n",
        "\n",
        "                \n",
        "            )   \n",
        "            \n",
        "    def forward(self,x):\n",
        "\n",
        "        x = self.linear(x)\n",
        "        \n",
        "        return (x)\n",
        "\n",
        "\n"
      ],
      "metadata": {
        "id": "I8GEnnFYRoOQ"
      },
      "execution_count": 548,
      "outputs": []
    },
    {
      "cell_type": "code",
      "source": [
        "class Model(nn.Module):\n",
        "    def __init__(self):\n",
        "          super(Model,self).__init__()\n",
        "        \n",
        "          self.conv1 = nn.Sequential(\n",
        "              \n",
        "              nn.Conv2d(1,8,kernel_size=3,stride = 1,padding =1 ),\n",
        "              nn.ReLU(),\n",
        "              nn.BatchNorm2d(8),\n",
        "              nn.MaxPool2d(2,2),\n",
        "              nn.Conv2d(8,16,3,1,1),\n",
        "              nn.ReLU(),\n",
        "              nn.BatchNorm2d(16),\n",
        "              nn.MaxPool2d(2,2),\n",
        "              nn.Conv2d(16,24,3,1,1),\n",
        "              nn.Dropout2d(0.2),\n",
        "              nn.ReLU(),\n",
        "              nn.MaxPool2d(2,2)\n",
        "            )\n",
        "\n",
        "          self.lin1 = nn.Linear(216,100)\n",
        "          self.lin2=  nn.Linear(100,30)\n",
        "        \n",
        "          self.lin3 = nn.Linear(30,10)          \n",
        "            \n",
        "    def forward(self,x):\n",
        "\n",
        "        x = self.conv1(x)\n",
        "        x = x.view(x.shape[0],-1)\n",
        "        x = nn.functional.relu(self.lin1(x))\n",
        "    \n",
        "        x = nn.functional.relu(self.lin2(x))\n",
        "        x = self.lin3(x)\n",
        "        \n",
        "        return (x)\n"
      ],
      "metadata": {
        "id": "tRhcNQYfN34n"
      },
      "execution_count": 549,
      "outputs": []
    },
    {
      "cell_type": "code",
      "source": [
        "model = Model()\n",
        "model.to(device)\n",
        "# Define our loss function\n",
        "criterion = nn.CrossEntropyLoss()\n",
        "optimizer = torch.optim.Adam(model.parameters(), lr = 0.005)"
      ],
      "metadata": {
        "id": "itwCokyIRoQw"
      },
      "execution_count": 550,
      "outputs": []
    },
    {
      "cell_type": "code",
      "source": [
        "device = \"cuda\" if torch.cuda.is_available() else \"cpu\"\n",
        "device"
      ],
      "metadata": {
        "colab": {
          "base_uri": "https://localhost:8080/",
          "height": 36
        },
        "id": "ZtGwuwTRORwz",
        "outputId": "ad5af96f-d336-41c3-d939-5ac1ac1da971"
      },
      "execution_count": 551,
      "outputs": [
        {
          "output_type": "execute_result",
          "data": {
            "text/plain": [
              "'cuda'"
            ],
            "application/vnd.google.colaboratory.intrinsic+json": {
              "type": "string"
            }
          },
          "metadata": {},
          "execution_count": 551
        }
      ]
    },
    {
      "cell_type": "code",
      "source": [
        "from tqdm import tqdm\n",
        "epochs = 10\n",
        "steps = 0\n",
        "print_every = 128\n",
        "train_losses, test_losses = [], []\n",
        "\n",
        "for e in range(epochs):\n",
        "    running_loss = 0\n",
        "    for images, labels in tqdm(train_loader,desc=f\"Training model  epoch {e}/{epochs}\"):\n",
        "        steps += 1\n",
        "\n",
        "        # Prevent accumulation of gradients\n",
        "        optimizer.zero_grad()\n",
        "        # Make predictions\n",
        "\n",
        "        images = images.to(device)\n",
        "        labels = labels.to(device)\n",
        "\n",
        "        log_ps = model(images)\n",
        "        loss = criterion(log_ps, labels)\n",
        "        \n",
        "        #backprop\n",
        "        loss.backward()\n",
        "        optimizer.step()\n",
        "        \n",
        "        running_loss += loss.item()\n",
        "        if steps % print_every == 0:\n",
        "            test_loss = 0\n",
        "            accuracy = 0\n",
        "\n",
        "            # Turn off gradients for validation\n",
        "            with torch.no_grad():\n",
        "                model.eval()\n",
        "                for images, labels in test_loader:\n",
        "                    images = images.to(device)\n",
        "                    labels = labels.to(device)\n",
        "                    log_ps = model(images)\n",
        "                    test_loss += criterion(log_ps, labels)\n",
        "\n",
        "                    ps = torch.exp(log_ps)\n",
        "            \n",
        "                    # Get our top predictions\n",
        "                    top_p, top_class = ps.topk(1, dim=1)\n",
        "                    equals = top_class == labels.view(*top_class.shape)\n",
        "                    accuracy += torch.mean(equals.type(torch.FloatTensor))\n",
        "\n",
        "            model.train()\n",
        "\n",
        "            train_losses.append(running_loss/len(train_loader))\n",
        "            test_losses.append(test_loss/len(test_loader))\n",
        "          \n",
        "\n",
        "            print(\"Epoch: {}/{}.. \".format(e+1, epochs),\n",
        "                  \"Training Loss: {:.3f}.. \".format(train_losses[-1]),\n",
        "                  \"Test Loss: {:.3f}.. \".format(test_losses[-1]),\n",
        "                  \"Test Accuracy: {:.3f}\".format(accuracy/len(test_loader)))"
      ],
      "metadata": {
        "id": "2VK73OIXRoTJ",
        "colab": {
          "base_uri": "https://localhost:8080/"
        },
        "outputId": "e3b45551-592a-475f-b4f0-7538ae9aaea3"
      },
      "execution_count": 552,
      "outputs": [
        {
          "output_type": "stream",
          "name": "stderr",
          "text": [
            "Training model  epoch 0/10:  14%|█▍        | 136/938 [00:03<00:43, 18.59it/s]"
          ]
        },
        {
          "output_type": "stream",
          "name": "stdout",
          "text": [
            "Epoch: 1/10..  Training Loss: 0.106..  Test Loss: 0.490..  Test Accuracy: 0.816\n"
          ]
        },
        {
          "output_type": "stream",
          "name": "stderr",
          "text": [
            "Training model  epoch 0/10:  28%|██▊       | 266/938 [00:07<00:34, 19.69it/s]"
          ]
        },
        {
          "output_type": "stream",
          "name": "stdout",
          "text": [
            "Epoch: 1/10..  Training Loss: 0.174..  Test Loss: 0.446..  Test Accuracy: 0.842\n"
          ]
        },
        {
          "output_type": "stream",
          "name": "stderr",
          "text": [
            "Training model  epoch 0/10:  42%|████▏     | 393/938 [00:10<00:29, 18.64it/s]"
          ]
        },
        {
          "output_type": "stream",
          "name": "stdout",
          "text": [
            "Epoch: 1/10..  Training Loss: 0.233..  Test Loss: 0.442..  Test Accuracy: 0.839\n"
          ]
        },
        {
          "output_type": "stream",
          "name": "stderr",
          "text": [
            "Training model  epoch 0/10:  56%|█████▌    | 522/938 [00:13<00:22, 18.52it/s]"
          ]
        },
        {
          "output_type": "stream",
          "name": "stdout",
          "text": [
            "Epoch: 1/10..  Training Loss: 0.287..  Test Loss: 0.400..  Test Accuracy: 0.852\n"
          ]
        },
        {
          "output_type": "stream",
          "name": "stderr",
          "text": [
            "Training model  epoch 0/10:  69%|██████▉   | 648/938 [00:16<00:16, 17.69it/s]"
          ]
        },
        {
          "output_type": "stream",
          "name": "stdout",
          "text": [
            "Epoch: 1/10..  Training Loss: 0.343..  Test Loss: 0.397..  Test Accuracy: 0.852\n"
          ]
        },
        {
          "output_type": "stream",
          "name": "stderr",
          "text": [
            "Training model  epoch 0/10:  84%|████████▎ | 784/938 [00:20<00:08, 19.13it/s]"
          ]
        },
        {
          "output_type": "stream",
          "name": "stdout",
          "text": [
            "Epoch: 1/10..  Training Loss: 0.396..  Test Loss: 0.402..  Test Accuracy: 0.850\n"
          ]
        },
        {
          "output_type": "stream",
          "name": "stderr",
          "text": [
            "Training model  epoch 0/10:  97%|█████████▋| 911/938 [00:23<00:01, 18.59it/s]"
          ]
        },
        {
          "output_type": "stream",
          "name": "stdout",
          "text": [
            "Epoch: 1/10..  Training Loss: 0.447..  Test Loss: 0.383..  Test Accuracy: 0.856\n"
          ]
        },
        {
          "output_type": "stream",
          "name": "stderr",
          "text": [
            "Training model  epoch 0/10: 100%|██████████| 938/938 [00:23<00:00, 39.12it/s]\n",
            "Training model  epoch 1/10:  11%|█         | 99/938 [00:02<00:43, 19.16it/s]"
          ]
        },
        {
          "output_type": "stream",
          "name": "stdout",
          "text": [
            "Epoch: 2/10..  Training Loss: 0.032..  Test Loss: 0.386..  Test Accuracy: 0.854\n"
          ]
        },
        {
          "output_type": "stream",
          "name": "stderr",
          "text": [
            "Training model  epoch 1/10:  24%|██▍       | 227/938 [00:05<00:37, 19.18it/s]"
          ]
        },
        {
          "output_type": "stream",
          "name": "stdout",
          "text": [
            "Epoch: 2/10..  Training Loss: 0.079..  Test Loss: 0.371..  Test Accuracy: 0.866\n"
          ]
        },
        {
          "output_type": "stream",
          "name": "stderr",
          "text": [
            "Training model  epoch 1/10:  37%|███▋      | 350/938 [00:09<00:31, 18.63it/s]"
          ]
        },
        {
          "output_type": "stream",
          "name": "stdout",
          "text": [
            "Epoch: 2/10..  Training Loss: 0.126..  Test Loss: 0.356..  Test Accuracy: 0.868\n"
          ]
        },
        {
          "output_type": "stream",
          "name": "stderr",
          "text": [
            "Training model  epoch 1/10:  51%|█████     | 477/938 [00:12<00:24, 18.87it/s]"
          ]
        },
        {
          "output_type": "stream",
          "name": "stdout",
          "text": [
            "Epoch: 2/10..  Training Loss: 0.174..  Test Loss: 0.357..  Test Accuracy: 0.870\n"
          ]
        },
        {
          "output_type": "stream",
          "name": "stderr",
          "text": [
            "Training model  epoch 1/10:  65%|██████▌   | 613/938 [00:15<00:16, 19.35it/s]"
          ]
        },
        {
          "output_type": "stream",
          "name": "stdout",
          "text": [
            "Epoch: 2/10..  Training Loss: 0.220..  Test Loss: 0.346..  Test Accuracy: 0.875\n"
          ]
        },
        {
          "output_type": "stream",
          "name": "stderr",
          "text": [
            "Training model  epoch 1/10:  78%|███████▊  | 736/938 [00:18<00:10, 19.47it/s]"
          ]
        },
        {
          "output_type": "stream",
          "name": "stdout",
          "text": [
            "Epoch: 2/10..  Training Loss: 0.265..  Test Loss: 0.346..  Test Accuracy: 0.870\n"
          ]
        },
        {
          "output_type": "stream",
          "name": "stderr",
          "text": [
            "Training model  epoch 1/10:  92%|█████████▏| 865/938 [00:21<00:03, 19.22it/s]"
          ]
        },
        {
          "output_type": "stream",
          "name": "stdout",
          "text": [
            "Epoch: 2/10..  Training Loss: 0.312..  Test Loss: 0.353..  Test Accuracy: 0.868\n"
          ]
        },
        {
          "output_type": "stream",
          "name": "stderr",
          "text": [
            "Training model  epoch 1/10: 100%|██████████| 938/938 [00:22<00:00, 41.26it/s]\n",
            "Training model  epoch 2/10:   6%|▌         | 57/938 [00:02<00:49, 17.89it/s]"
          ]
        },
        {
          "output_type": "stream",
          "name": "stdout",
          "text": [
            "Epoch: 3/10..  Training Loss: 0.015..  Test Loss: 0.359..  Test Accuracy: 0.868\n"
          ]
        },
        {
          "output_type": "stream",
          "name": "stderr",
          "text": [
            "Training model  epoch 2/10:  20%|█▉        | 184/938 [00:05<00:40, 18.70it/s]"
          ]
        },
        {
          "output_type": "stream",
          "name": "stdout",
          "text": [
            "Epoch: 3/10..  Training Loss: 0.055..  Test Loss: 0.329..  Test Accuracy: 0.880\n"
          ]
        },
        {
          "output_type": "stream",
          "name": "stderr",
          "text": [
            "Training model  epoch 2/10:  33%|███▎      | 313/938 [00:08<00:32, 18.97it/s]"
          ]
        },
        {
          "output_type": "stream",
          "name": "stdout",
          "text": [
            "Epoch: 3/10..  Training Loss: 0.099..  Test Loss: 0.348..  Test Accuracy: 0.877\n"
          ]
        },
        {
          "output_type": "stream",
          "name": "stderr",
          "text": [
            "Training model  epoch 2/10:  47%|████▋     | 439/938 [00:11<00:27, 18.32it/s]"
          ]
        },
        {
          "output_type": "stream",
          "name": "stdout",
          "text": [
            "Epoch: 3/10..  Training Loss: 0.141..  Test Loss: 0.330..  Test Accuracy: 0.883\n"
          ]
        },
        {
          "output_type": "stream",
          "name": "stderr",
          "text": [
            "Training model  epoch 2/10:  60%|██████    | 566/938 [00:15<00:23, 15.56it/s]"
          ]
        },
        {
          "output_type": "stream",
          "name": "stdout",
          "text": [
            "Epoch: 3/10..  Training Loss: 0.183..  Test Loss: 0.311..  Test Accuracy: 0.888\n"
          ]
        },
        {
          "output_type": "stream",
          "name": "stderr",
          "text": [
            "Training model  epoch 2/10:  74%|███████▍  | 698/938 [00:19<00:12, 18.83it/s]"
          ]
        },
        {
          "output_type": "stream",
          "name": "stdout",
          "text": [
            "Epoch: 3/10..  Training Loss: 0.227..  Test Loss: 0.320..  Test Accuracy: 0.884\n"
          ]
        },
        {
          "output_type": "stream",
          "name": "stderr",
          "text": [
            "Training model  epoch 2/10:  87%|████████▋ | 819/938 [00:22<00:06, 18.09it/s]"
          ]
        },
        {
          "output_type": "stream",
          "name": "stdout",
          "text": [
            "Epoch: 3/10..  Training Loss: 0.270..  Test Loss: 0.308..  Test Accuracy: 0.889\n"
          ]
        },
        {
          "output_type": "stream",
          "name": "stderr",
          "text": [
            "Training model  epoch 2/10: 100%|██████████| 938/938 [00:23<00:00, 39.52it/s]\n",
            "Training model  epoch 3/10:   1%|          | 10/938 [00:01<02:16,  6.81it/s]"
          ]
        },
        {
          "output_type": "stream",
          "name": "stdout",
          "text": [
            "Epoch: 4/10..  Training Loss: 0.000..  Test Loss: 0.327..  Test Accuracy: 0.879\n"
          ]
        },
        {
          "output_type": "stream",
          "name": "stderr",
          "text": [
            "Training model  epoch 3/10:  15%|█▌        | 144/938 [00:05<00:49, 16.14it/s]"
          ]
        },
        {
          "output_type": "stream",
          "name": "stdout",
          "text": [
            "Epoch: 4/10..  Training Loss: 0.040..  Test Loss: 0.404..  Test Accuracy: 0.850\n"
          ]
        },
        {
          "output_type": "stream",
          "name": "stderr",
          "text": [
            "Training model  epoch 3/10:  29%|██▉       | 272/938 [00:10<00:42, 15.80it/s]"
          ]
        },
        {
          "output_type": "stream",
          "name": "stdout",
          "text": [
            "Epoch: 4/10..  Training Loss: 0.081..  Test Loss: 0.321..  Test Accuracy: 0.882\n"
          ]
        },
        {
          "output_type": "stream",
          "name": "stderr",
          "text": [
            "Training model  epoch 3/10:  42%|████▏     | 397/938 [00:13<00:37, 14.45it/s]"
          ]
        },
        {
          "output_type": "stream",
          "name": "stdout",
          "text": [
            "Epoch: 4/10..  Training Loss: 0.120..  Test Loss: 0.321..  Test Accuracy: 0.882\n"
          ]
        },
        {
          "output_type": "stream",
          "name": "stderr",
          "text": [
            "Training model  epoch 3/10:  56%|█████▋    | 528/938 [00:17<00:27, 14.93it/s]"
          ]
        },
        {
          "output_type": "stream",
          "name": "stdout",
          "text": [
            "Epoch: 4/10..  Training Loss: 0.162..  Test Loss: 0.312..  Test Accuracy: 0.890\n"
          ]
        },
        {
          "output_type": "stream",
          "name": "stderr",
          "text": [
            "Training model  epoch 3/10:  70%|██████▉   | 655/938 [00:21<00:18, 14.93it/s]"
          ]
        },
        {
          "output_type": "stream",
          "name": "stdout",
          "text": [
            "Epoch: 4/10..  Training Loss: 0.202..  Test Loss: 0.304..  Test Accuracy: 0.891\n"
          ]
        },
        {
          "output_type": "stream",
          "name": "stderr",
          "text": [
            "Training model  epoch 3/10:  83%|████████▎ | 780/938 [00:24<00:08, 17.82it/s]"
          ]
        },
        {
          "output_type": "stream",
          "name": "stdout",
          "text": [
            "Epoch: 4/10..  Training Loss: 0.242..  Test Loss: 0.318..  Test Accuracy: 0.886\n"
          ]
        },
        {
          "output_type": "stream",
          "name": "stderr",
          "text": [
            "Training model  epoch 3/10:  97%|█████████▋| 908/938 [00:28<00:01, 19.11it/s]"
          ]
        },
        {
          "output_type": "stream",
          "name": "stdout",
          "text": [
            "Epoch: 4/10..  Training Loss: 0.284..  Test Loss: 0.312..  Test Accuracy: 0.883\n"
          ]
        },
        {
          "output_type": "stream",
          "name": "stderr",
          "text": [
            "Training model  epoch 3/10: 100%|██████████| 938/938 [00:28<00:00, 32.81it/s]\n",
            "Training model  epoch 4/10:  10%|█         | 96/938 [00:02<00:45, 18.46it/s]"
          ]
        },
        {
          "output_type": "stream",
          "name": "stdout",
          "text": [
            "Epoch: 5/10..  Training Loss: 0.026..  Test Loss: 0.298..  Test Accuracy: 0.893\n"
          ]
        },
        {
          "output_type": "stream",
          "name": "stderr",
          "text": [
            "Training model  epoch 4/10:  24%|██▍       | 224/938 [00:06<00:37, 19.02it/s]"
          ]
        },
        {
          "output_type": "stream",
          "name": "stdout",
          "text": [
            "Epoch: 5/10..  Training Loss: 0.066..  Test Loss: 0.291..  Test Accuracy: 0.897\n"
          ]
        },
        {
          "output_type": "stream",
          "name": "stderr",
          "text": [
            "Training model  epoch 4/10:  38%|███▊      | 354/938 [00:09<00:29, 19.80it/s]"
          ]
        },
        {
          "output_type": "stream",
          "name": "stdout",
          "text": [
            "Epoch: 5/10..  Training Loss: 0.104..  Test Loss: 0.297..  Test Accuracy: 0.893\n"
          ]
        },
        {
          "output_type": "stream",
          "name": "stderr",
          "text": [
            "Training model  epoch 4/10:  51%|█████▏    | 483/938 [00:12<00:23, 19.00it/s]"
          ]
        },
        {
          "output_type": "stream",
          "name": "stdout",
          "text": [
            "Epoch: 5/10..  Training Loss: 0.143..  Test Loss: 0.288..  Test Accuracy: 0.893\n"
          ]
        },
        {
          "output_type": "stream",
          "name": "stderr",
          "text": [
            "Training model  epoch 4/10:  65%|██████▌   | 610/938 [00:15<00:17, 19.26it/s]"
          ]
        },
        {
          "output_type": "stream",
          "name": "stdout",
          "text": [
            "Epoch: 5/10..  Training Loss: 0.180..  Test Loss: 0.301..  Test Accuracy: 0.891\n"
          ]
        },
        {
          "output_type": "stream",
          "name": "stderr",
          "text": [
            "Training model  epoch 4/10:  79%|███████▊  | 738/938 [00:18<00:10, 19.36it/s]"
          ]
        },
        {
          "output_type": "stream",
          "name": "stdout",
          "text": [
            "Epoch: 5/10..  Training Loss: 0.217..  Test Loss: 0.295..  Test Accuracy: 0.894\n"
          ]
        },
        {
          "output_type": "stream",
          "name": "stderr",
          "text": [
            "Training model  epoch 4/10:  92%|█████████▏| 866/938 [00:22<00:04, 17.82it/s]"
          ]
        },
        {
          "output_type": "stream",
          "name": "stdout",
          "text": [
            "Epoch: 5/10..  Training Loss: 0.256..  Test Loss: 0.286..  Test Accuracy: 0.899\n"
          ]
        },
        {
          "output_type": "stream",
          "name": "stderr",
          "text": [
            "Training model  epoch 4/10: 100%|██████████| 938/938 [00:23<00:00, 40.64it/s]\n",
            "Training model  epoch 5/10:   6%|▌         | 54/938 [00:02<00:52, 16.70it/s]"
          ]
        },
        {
          "output_type": "stream",
          "name": "stdout",
          "text": [
            "Epoch: 6/10..  Training Loss: 0.013..  Test Loss: 0.307..  Test Accuracy: 0.891\n"
          ]
        },
        {
          "output_type": "stream",
          "name": "stderr",
          "text": [
            "Training model  epoch 5/10:  20%|█▉        | 186/938 [00:05<00:39, 18.95it/s]"
          ]
        },
        {
          "output_type": "stream",
          "name": "stdout",
          "text": [
            "Epoch: 6/10..  Training Loss: 0.050..  Test Loss: 0.309..  Test Accuracy: 0.886\n"
          ]
        },
        {
          "output_type": "stream",
          "name": "stderr",
          "text": [
            "Training model  epoch 5/10:  33%|███▎      | 313/938 [00:08<00:33, 18.75it/s]"
          ]
        },
        {
          "output_type": "stream",
          "name": "stdout",
          "text": [
            "Epoch: 6/10..  Training Loss: 0.087..  Test Loss: 0.290..  Test Accuracy: 0.894\n"
          ]
        },
        {
          "output_type": "stream",
          "name": "stderr",
          "text": [
            "Training model  epoch 5/10:  47%|████▋     | 440/938 [00:12<00:27, 18.24it/s]"
          ]
        },
        {
          "output_type": "stream",
          "name": "stdout",
          "text": [
            "Epoch: 6/10..  Training Loss: 0.124..  Test Loss: 0.297..  Test Accuracy: 0.893\n"
          ]
        },
        {
          "output_type": "stream",
          "name": "stderr",
          "text": [
            "Training model  epoch 5/10:  60%|██████    | 565/938 [00:15<00:21, 17.74it/s]"
          ]
        },
        {
          "output_type": "stream",
          "name": "stdout",
          "text": [
            "Epoch: 6/10..  Training Loss: 0.160..  Test Loss: 0.296..  Test Accuracy: 0.894\n"
          ]
        },
        {
          "output_type": "stream",
          "name": "stderr",
          "text": [
            "Training model  epoch 5/10:  75%|███████▍  | 699/938 [00:18<00:13, 18.12it/s]"
          ]
        },
        {
          "output_type": "stream",
          "name": "stdout",
          "text": [
            "Epoch: 6/10..  Training Loss: 0.197..  Test Loss: 0.299..  Test Accuracy: 0.893\n"
          ]
        },
        {
          "output_type": "stream",
          "name": "stderr",
          "text": [
            "Training model  epoch 5/10:  88%|████████▊ | 824/938 [00:22<00:06, 18.02it/s]"
          ]
        },
        {
          "output_type": "stream",
          "name": "stdout",
          "text": [
            "Epoch: 6/10..  Training Loss: 0.235..  Test Loss: 0.299..  Test Accuracy: 0.895\n"
          ]
        },
        {
          "output_type": "stream",
          "name": "stderr",
          "text": [
            "Training model  epoch 5/10: 100%|██████████| 938/938 [00:23<00:00, 39.64it/s]\n",
            "Training model  epoch 6/10:   1%|▏         | 12/938 [00:01<01:47,  8.63it/s]"
          ]
        },
        {
          "output_type": "stream",
          "name": "stdout",
          "text": [
            "Epoch: 7/10..  Training Loss: 0.001..  Test Loss: 0.316..  Test Accuracy: 0.886\n"
          ]
        },
        {
          "output_type": "stream",
          "name": "stderr",
          "text": [
            "Training model  epoch 6/10:  15%|█▌        | 145/938 [00:05<00:43, 18.33it/s]"
          ]
        },
        {
          "output_type": "stream",
          "name": "stdout",
          "text": [
            "Epoch: 7/10..  Training Loss: 0.037..  Test Loss: 0.295..  Test Accuracy: 0.894\n"
          ]
        },
        {
          "output_type": "stream",
          "name": "stderr",
          "text": [
            "Training model  epoch 6/10:  29%|██▉       | 273/938 [00:08<00:38, 17.48it/s]"
          ]
        },
        {
          "output_type": "stream",
          "name": "stdout",
          "text": [
            "Epoch: 7/10..  Training Loss: 0.073..  Test Loss: 0.293..  Test Accuracy: 0.892\n"
          ]
        },
        {
          "output_type": "stream",
          "name": "stderr",
          "text": [
            "Training model  epoch 6/10:  42%|████▏     | 397/938 [00:11<00:30, 17.65it/s]"
          ]
        },
        {
          "output_type": "stream",
          "name": "stdout",
          "text": [
            "Epoch: 7/10..  Training Loss: 0.108..  Test Loss: 0.311..  Test Accuracy: 0.890\n"
          ]
        },
        {
          "output_type": "stream",
          "name": "stderr",
          "text": [
            "Training model  epoch 6/10:  57%|█████▋    | 530/938 [00:15<00:22, 18.36it/s]"
          ]
        },
        {
          "output_type": "stream",
          "name": "stdout",
          "text": [
            "Epoch: 7/10..  Training Loss: 0.145..  Test Loss: 0.297..  Test Accuracy: 0.893\n"
          ]
        },
        {
          "output_type": "stream",
          "name": "stderr",
          "text": [
            "Training model  epoch 6/10:  70%|███████   | 658/938 [00:18<00:15, 18.46it/s]"
          ]
        },
        {
          "output_type": "stream",
          "name": "stdout",
          "text": [
            "Epoch: 7/10..  Training Loss: 0.182..  Test Loss: 0.273..  Test Accuracy: 0.901\n"
          ]
        },
        {
          "output_type": "stream",
          "name": "stderr",
          "text": [
            "Training model  epoch 6/10:  84%|████████▎ | 785/938 [00:22<00:10, 14.50it/s]"
          ]
        },
        {
          "output_type": "stream",
          "name": "stdout",
          "text": [
            "Epoch: 7/10..  Training Loss: 0.217..  Test Loss: 0.286..  Test Accuracy: 0.898\n"
          ]
        },
        {
          "output_type": "stream",
          "name": "stderr",
          "text": [
            "Training model  epoch 6/10:  97%|█████████▋| 910/938 [00:26<00:01, 16.00it/s]"
          ]
        },
        {
          "output_type": "stream",
          "name": "stdout",
          "text": [
            "Epoch: 7/10..  Training Loss: 0.253..  Test Loss: 0.310..  Test Accuracy: 0.890\n"
          ]
        },
        {
          "output_type": "stream",
          "name": "stderr",
          "text": [
            "Training model  epoch 6/10: 100%|██████████| 938/938 [00:26<00:00, 35.14it/s]\n",
            "Training model  epoch 7/10:  10%|█         | 98/938 [00:03<00:50, 16.78it/s]"
          ]
        },
        {
          "output_type": "stream",
          "name": "stdout",
          "text": [
            "Epoch: 8/10..  Training Loss: 0.022..  Test Loss: 0.282..  Test Accuracy: 0.899\n"
          ]
        },
        {
          "output_type": "stream",
          "name": "stderr",
          "text": [
            "Training model  epoch 7/10:  24%|██▍       | 226/938 [00:06<00:39, 17.96it/s]"
          ]
        },
        {
          "output_type": "stream",
          "name": "stdout",
          "text": [
            "Epoch: 8/10..  Training Loss: 0.057..  Test Loss: 0.302..  Test Accuracy: 0.895\n"
          ]
        },
        {
          "output_type": "stream",
          "name": "stderr",
          "text": [
            "Training model  epoch 7/10:  38%|███▊      | 352/938 [00:09<00:41, 14.03it/s]"
          ]
        },
        {
          "output_type": "stream",
          "name": "stdout",
          "text": [
            "Epoch: 8/10..  Training Loss: 0.092..  Test Loss: 0.297..  Test Accuracy: 0.891\n"
          ]
        },
        {
          "output_type": "stream",
          "name": "stderr",
          "text": [
            "Training model  epoch 7/10:  52%|█████▏    | 484/938 [00:13<00:24, 18.37it/s]"
          ]
        },
        {
          "output_type": "stream",
          "name": "stdout",
          "text": [
            "Epoch: 8/10..  Training Loss: 0.127..  Test Loss: 0.294..  Test Accuracy: 0.899\n"
          ]
        },
        {
          "output_type": "stream",
          "name": "stderr",
          "text": [
            "Training model  epoch 7/10:  65%|██████▌   | 611/938 [00:16<00:17, 18.24it/s]"
          ]
        },
        {
          "output_type": "stream",
          "name": "stdout",
          "text": [
            "Epoch: 8/10..  Training Loss: 0.162..  Test Loss: 0.300..  Test Accuracy: 0.896\n"
          ]
        },
        {
          "output_type": "stream",
          "name": "stderr",
          "text": [
            "Training model  epoch 7/10:  79%|███████▊  | 738/938 [00:19<00:10, 18.24it/s]"
          ]
        },
        {
          "output_type": "stream",
          "name": "stdout",
          "text": [
            "Epoch: 8/10..  Training Loss: 0.198..  Test Loss: 0.276..  Test Accuracy: 0.901\n"
          ]
        },
        {
          "output_type": "stream",
          "name": "stderr",
          "text": [
            "Training model  epoch 7/10:  92%|█████████▏| 865/938 [00:22<00:05, 13.91it/s]"
          ]
        },
        {
          "output_type": "stream",
          "name": "stdout",
          "text": [
            "Epoch: 8/10..  Training Loss: 0.234..  Test Loss: 0.270..  Test Accuracy: 0.903\n"
          ]
        },
        {
          "output_type": "stream",
          "name": "stderr",
          "text": [
            "Training model  epoch 7/10: 100%|██████████| 938/938 [00:23<00:00, 39.18it/s]\n",
            "Training model  epoch 8/10:   6%|▌         | 55/938 [00:02<01:08, 12.81it/s]"
          ]
        },
        {
          "output_type": "stream",
          "name": "stdout",
          "text": [
            "Epoch: 9/10..  Training Loss: 0.013..  Test Loss: 0.316..  Test Accuracy: 0.884\n"
          ]
        },
        {
          "output_type": "stream",
          "name": "stderr",
          "text": [
            "Training model  epoch 8/10:  20%|██        | 190/938 [00:05<00:40, 18.56it/s]"
          ]
        },
        {
          "output_type": "stream",
          "name": "stdout",
          "text": [
            "Epoch: 9/10..  Training Loss: 0.048..  Test Loss: 0.289..  Test Accuracy: 0.897\n"
          ]
        },
        {
          "output_type": "stream",
          "name": "stderr",
          "text": [
            "Training model  epoch 8/10:  34%|███▎      | 316/938 [00:09<00:35, 17.36it/s]"
          ]
        },
        {
          "output_type": "stream",
          "name": "stdout",
          "text": [
            "Epoch: 9/10..  Training Loss: 0.082..  Test Loss: 0.278..  Test Accuracy: 0.902\n"
          ]
        },
        {
          "output_type": "stream",
          "name": "stderr",
          "text": [
            "Training model  epoch 8/10:  47%|████▋     | 443/938 [00:12<00:26, 18.70it/s]"
          ]
        },
        {
          "output_type": "stream",
          "name": "stdout",
          "text": [
            "Epoch: 9/10..  Training Loss: 0.115..  Test Loss: 0.279..  Test Accuracy: 0.901\n"
          ]
        },
        {
          "output_type": "stream",
          "name": "stderr",
          "text": [
            "Training model  epoch 8/10:  61%|██████    | 568/938 [00:15<00:20, 17.84it/s]"
          ]
        },
        {
          "output_type": "stream",
          "name": "stdout",
          "text": [
            "Epoch: 9/10..  Training Loss: 0.149..  Test Loss: 0.281..  Test Accuracy: 0.898\n"
          ]
        },
        {
          "output_type": "stream",
          "name": "stderr",
          "text": [
            "Training model  epoch 8/10:  75%|███████▍  | 703/938 [00:18<00:12, 18.38it/s]"
          ]
        },
        {
          "output_type": "stream",
          "name": "stdout",
          "text": [
            "Epoch: 9/10..  Training Loss: 0.182..  Test Loss: 0.295..  Test Accuracy: 0.894\n"
          ]
        },
        {
          "output_type": "stream",
          "name": "stderr",
          "text": [
            "Training model  epoch 8/10:  88%|████████▊ | 830/938 [00:22<00:06, 17.97it/s]"
          ]
        },
        {
          "output_type": "stream",
          "name": "stdout",
          "text": [
            "Epoch: 9/10..  Training Loss: 0.216..  Test Loss: 0.297..  Test Accuracy: 0.896\n"
          ]
        },
        {
          "output_type": "stream",
          "name": "stderr",
          "text": [
            "Training model  epoch 8/10: 100%|██████████| 938/938 [00:23<00:00, 39.63it/s]\n",
            "Training model  epoch 9/10:   1%|▏         | 14/938 [00:01<01:33,  9.91it/s]"
          ]
        },
        {
          "output_type": "stream",
          "name": "stdout",
          "text": [
            "Epoch: 10/10..  Training Loss: 0.002..  Test Loss: 0.286..  Test Accuracy: 0.896\n"
          ]
        },
        {
          "output_type": "stream",
          "name": "stderr",
          "text": [
            "Training model  epoch 9/10:  15%|█▌        | 142/938 [00:05<00:44, 17.90it/s]"
          ]
        },
        {
          "output_type": "stream",
          "name": "stdout",
          "text": [
            "Epoch: 10/10..  Training Loss: 0.033..  Test Loss: 0.292..  Test Accuracy: 0.896\n"
          ]
        },
        {
          "output_type": "stream",
          "name": "stderr",
          "text": [
            "Training model  epoch 9/10:  29%|██▉       | 270/938 [00:08<00:35, 18.58it/s]"
          ]
        },
        {
          "output_type": "stream",
          "name": "stdout",
          "text": [
            "Epoch: 10/10..  Training Loss: 0.066..  Test Loss: 0.279..  Test Accuracy: 0.903\n"
          ]
        },
        {
          "output_type": "stream",
          "name": "stderr",
          "text": [
            "Training model  epoch 9/10:  43%|████▎     | 403/938 [00:11<00:27, 19.24it/s]"
          ]
        },
        {
          "output_type": "stream",
          "name": "stdout",
          "text": [
            "Epoch: 10/10..  Training Loss: 0.101..  Test Loss: 0.296..  Test Accuracy: 0.893\n"
          ]
        },
        {
          "output_type": "stream",
          "name": "stderr",
          "text": [
            "Training model  epoch 9/10:  57%|█████▋    | 530/938 [00:14<00:22, 17.93it/s]"
          ]
        },
        {
          "output_type": "stream",
          "name": "stdout",
          "text": [
            "Epoch: 10/10..  Training Loss: 0.135..  Test Loss: 0.279..  Test Accuracy: 0.899\n"
          ]
        },
        {
          "output_type": "stream",
          "name": "stderr",
          "text": [
            "Training model  epoch 9/10:  70%|██████▉   | 654/938 [00:18<00:15, 17.77it/s]"
          ]
        },
        {
          "output_type": "stream",
          "name": "stdout",
          "text": [
            "Epoch: 10/10..  Training Loss: 0.170..  Test Loss: 0.286..  Test Accuracy: 0.896\n"
          ]
        },
        {
          "output_type": "stream",
          "name": "stderr",
          "text": [
            "Training model  epoch 9/10:  84%|████████▎ | 785/938 [00:21<00:08, 18.89it/s]"
          ]
        },
        {
          "output_type": "stream",
          "name": "stdout",
          "text": [
            "Epoch: 10/10..  Training Loss: 0.204..  Test Loss: 0.278..  Test Accuracy: 0.902\n"
          ]
        },
        {
          "output_type": "stream",
          "name": "stderr",
          "text": [
            "Training model  epoch 9/10:  98%|█████████▊| 915/938 [00:24<00:01, 19.42it/s]"
          ]
        },
        {
          "output_type": "stream",
          "name": "stdout",
          "text": [
            "Epoch: 10/10..  Training Loss: 0.237..  Test Loss: 0.272..  Test Accuracy: 0.903\n"
          ]
        },
        {
          "output_type": "stream",
          "name": "stderr",
          "text": [
            "Training model  epoch 9/10: 100%|██████████| 938/938 [00:24<00:00, 37.82it/s]\n"
          ]
        }
      ]
    },
    {
      "cell_type": "code",
      "source": [
        "class_names = ['T-shirt/top', 'Trouser', 'Pullover', 'Dress', 'Coat',\n",
        "               'Sandal',      'Shirt',   'Sneaker',  'Bag',   'Ankle boot']"
      ],
      "metadata": {
        "id": "0WIwTJDzcc19"
      },
      "execution_count": 553,
      "outputs": []
    },
    {
      "cell_type": "code",
      "source": [
        "test_acc = 0\n",
        "for idx,(images, labels) in enumerate(test_loader):\n",
        "                  model.eval()\n",
        "                  with torch.no_grad():\n",
        "                    \n",
        "                    ##plt.imshow(torch.squeeze(images[0],dim=0),cmap=\"gray\")\n",
        "                    ##print(\"Truth => \",class_names[labels[0].numpy()])   used  to see image and my labels\n",
        "\n",
        "                    images = images.to(device)\n",
        "                    log_ps = model(images)\n",
        "                    ##print(\"Guess=> \",class_names[torch.argmax(log_ps[0]).numpy()])\n",
        "\n",
        "                    labels = labels.to(device)\n",
        "                    ps = log_ps\n",
        "            \n",
        "                    # Get our top predictions\n",
        "                    top_p, top_class = ps.topk(1, dim=1)\n",
        "          \n",
        "                    equals = top_class == labels.view(-1,1)\n",
        "                    test_acc +=equals.sum()\n",
        "\n",
        "\n",
        "print(\"Accuracy is \" , (test_acc.to(\"cpu\")/(len(test_loader)*64)))"
      ],
      "metadata": {
        "id": "VW6_2RlxRoVY",
        "colab": {
          "base_uri": "https://localhost:8080/"
        },
        "outputId": "a4e541fc-515a-4daf-95f7-cb033372686a"
      },
      "execution_count": 566,
      "outputs": [
        {
          "output_type": "stream",
          "name": "stdout",
          "text": [
            "Accuracy is  tensor(0.8987)\n"
          ]
        }
      ]
    },
    {
      "cell_type": "code",
      "source": [
        ""
      ],
      "metadata": {
        "id": "zrGmAD7xV2_a"
      },
      "execution_count": null,
      "outputs": []
    },
    {
      "cell_type": "code",
      "source": [
        ""
      ],
      "metadata": {
        "id": "zMdqTyIBe5w2"
      },
      "execution_count": null,
      "outputs": []
    }
  ]
}